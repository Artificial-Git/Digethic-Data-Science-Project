{
 "cells": [
  {
   "cell_type": "code",
   "execution_count": 1,
   "metadata": {},
   "outputs": [],
   "source": [
    "import numpy as np\n",
    "import pandas as pd\n",
    "from scipy import stats\n",
    "import matplotlib.pyplot as plt\n",
    "import seaborn as sns\n",
    "from statsmodels import robust\n",
    "from sklearn.model_selection import train_test_split\n",
    "from sklearn.impute import SimpleImputer\n",
    "from sklearn.impute import KNNImputer\n",
    "from sklearn.metrics import mean_squared_error\n",
    "import matplotlib.pyplot as plt"
   ]
  },
  {
   "cell_type": "code",
   "execution_count": 89,
   "metadata": {},
   "outputs": [
    {
     "data": {
      "text/html": [
       "<div>\n",
       "<style scoped>\n",
       "    .dataframe tbody tr th:only-of-type {\n",
       "        vertical-align: middle;\n",
       "    }\n",
       "\n",
       "    .dataframe tbody tr th {\n",
       "        vertical-align: top;\n",
       "    }\n",
       "\n",
       "    .dataframe thead th {\n",
       "        text-align: right;\n",
       "    }\n",
       "</style>\n",
       "<table border=\"1\" class=\"dataframe\">\n",
       "  <thead>\n",
       "    <tr style=\"text-align: right;\">\n",
       "      <th></th>\n",
       "      <th>kepid</th>\n",
       "      <th>kepoi_name</th>\n",
       "      <th>kepler_name</th>\n",
       "      <th>koi_disposition</th>\n",
       "      <th>koi_pdisposition</th>\n",
       "      <th>koi_score</th>\n",
       "      <th>koi_fpflag_nt</th>\n",
       "      <th>koi_fpflag_ss</th>\n",
       "      <th>koi_fpflag_co</th>\n",
       "      <th>koi_fpflag_ec</th>\n",
       "      <th>...</th>\n",
       "      <th>koi_steff_err2</th>\n",
       "      <th>koi_slogg</th>\n",
       "      <th>koi_slogg_err1</th>\n",
       "      <th>koi_slogg_err2</th>\n",
       "      <th>koi_srad</th>\n",
       "      <th>koi_srad_err1</th>\n",
       "      <th>koi_srad_err2</th>\n",
       "      <th>ra</th>\n",
       "      <th>dec</th>\n",
       "      <th>koi_kepmag</th>\n",
       "    </tr>\n",
       "  </thead>\n",
       "  <tbody>\n",
       "    <tr>\n",
       "      <th>0</th>\n",
       "      <td>10797460</td>\n",
       "      <td>K00752.01</td>\n",
       "      <td>Kepler-227 b</td>\n",
       "      <td>CONFIRMED</td>\n",
       "      <td>CANDIDATE</td>\n",
       "      <td>1.000</td>\n",
       "      <td>0</td>\n",
       "      <td>0</td>\n",
       "      <td>0</td>\n",
       "      <td>0</td>\n",
       "      <td>...</td>\n",
       "      <td>-81.0</td>\n",
       "      <td>4.467</td>\n",
       "      <td>0.064</td>\n",
       "      <td>-0.096</td>\n",
       "      <td>0.927</td>\n",
       "      <td>0.105</td>\n",
       "      <td>-0.061</td>\n",
       "      <td>291.93423</td>\n",
       "      <td>48.141651</td>\n",
       "      <td>15.347</td>\n",
       "    </tr>\n",
       "    <tr>\n",
       "      <th>1</th>\n",
       "      <td>10797460</td>\n",
       "      <td>K00752.02</td>\n",
       "      <td>Kepler-227 c</td>\n",
       "      <td>CONFIRMED</td>\n",
       "      <td>CANDIDATE</td>\n",
       "      <td>0.969</td>\n",
       "      <td>0</td>\n",
       "      <td>0</td>\n",
       "      <td>0</td>\n",
       "      <td>0</td>\n",
       "      <td>...</td>\n",
       "      <td>-81.0</td>\n",
       "      <td>4.467</td>\n",
       "      <td>0.064</td>\n",
       "      <td>-0.096</td>\n",
       "      <td>0.927</td>\n",
       "      <td>0.105</td>\n",
       "      <td>-0.061</td>\n",
       "      <td>291.93423</td>\n",
       "      <td>48.141651</td>\n",
       "      <td>15.347</td>\n",
       "    </tr>\n",
       "    <tr>\n",
       "      <th>2</th>\n",
       "      <td>10811496</td>\n",
       "      <td>K00753.01</td>\n",
       "      <td>NaN</td>\n",
       "      <td>CANDIDATE</td>\n",
       "      <td>CANDIDATE</td>\n",
       "      <td>0.000</td>\n",
       "      <td>0</td>\n",
       "      <td>0</td>\n",
       "      <td>0</td>\n",
       "      <td>0</td>\n",
       "      <td>...</td>\n",
       "      <td>-176.0</td>\n",
       "      <td>4.544</td>\n",
       "      <td>0.044</td>\n",
       "      <td>-0.176</td>\n",
       "      <td>0.868</td>\n",
       "      <td>0.233</td>\n",
       "      <td>-0.078</td>\n",
       "      <td>297.00482</td>\n",
       "      <td>48.134129</td>\n",
       "      <td>15.436</td>\n",
       "    </tr>\n",
       "    <tr>\n",
       "      <th>3</th>\n",
       "      <td>10848459</td>\n",
       "      <td>K00754.01</td>\n",
       "      <td>NaN</td>\n",
       "      <td>FALSE POSITIVE</td>\n",
       "      <td>FALSE POSITIVE</td>\n",
       "      <td>0.000</td>\n",
       "      <td>0</td>\n",
       "      <td>1</td>\n",
       "      <td>0</td>\n",
       "      <td>0</td>\n",
       "      <td>...</td>\n",
       "      <td>-174.0</td>\n",
       "      <td>4.564</td>\n",
       "      <td>0.053</td>\n",
       "      <td>-0.168</td>\n",
       "      <td>0.791</td>\n",
       "      <td>0.201</td>\n",
       "      <td>-0.067</td>\n",
       "      <td>285.53461</td>\n",
       "      <td>48.285210</td>\n",
       "      <td>15.597</td>\n",
       "    </tr>\n",
       "    <tr>\n",
       "      <th>4</th>\n",
       "      <td>10854555</td>\n",
       "      <td>K00755.01</td>\n",
       "      <td>Kepler-664 b</td>\n",
       "      <td>CONFIRMED</td>\n",
       "      <td>CANDIDATE</td>\n",
       "      <td>1.000</td>\n",
       "      <td>0</td>\n",
       "      <td>0</td>\n",
       "      <td>0</td>\n",
       "      <td>0</td>\n",
       "      <td>...</td>\n",
       "      <td>-211.0</td>\n",
       "      <td>4.438</td>\n",
       "      <td>0.070</td>\n",
       "      <td>-0.210</td>\n",
       "      <td>1.046</td>\n",
       "      <td>0.334</td>\n",
       "      <td>-0.133</td>\n",
       "      <td>288.75488</td>\n",
       "      <td>48.226200</td>\n",
       "      <td>15.509</td>\n",
       "    </tr>\n",
       "  </tbody>\n",
       "</table>\n",
       "<p>5 rows × 49 columns</p>\n",
       "</div>"
      ],
      "text/plain": [
       "      kepid kepoi_name   kepler_name koi_disposition koi_pdisposition  \\\n",
       "0  10797460  K00752.01  Kepler-227 b       CONFIRMED        CANDIDATE   \n",
       "1  10797460  K00752.02  Kepler-227 c       CONFIRMED        CANDIDATE   \n",
       "2  10811496  K00753.01           NaN       CANDIDATE        CANDIDATE   \n",
       "3  10848459  K00754.01           NaN  FALSE POSITIVE   FALSE POSITIVE   \n",
       "4  10854555  K00755.01  Kepler-664 b       CONFIRMED        CANDIDATE   \n",
       "\n",
       "   koi_score  koi_fpflag_nt  koi_fpflag_ss  koi_fpflag_co  koi_fpflag_ec  ...  \\\n",
       "0      1.000              0              0              0              0  ...   \n",
       "1      0.969              0              0              0              0  ...   \n",
       "2      0.000              0              0              0              0  ...   \n",
       "3      0.000              0              1              0              0  ...   \n",
       "4      1.000              0              0              0              0  ...   \n",
       "\n",
       "   koi_steff_err2  koi_slogg  koi_slogg_err1  koi_slogg_err2  koi_srad  \\\n",
       "0           -81.0      4.467           0.064          -0.096     0.927   \n",
       "1           -81.0      4.467           0.064          -0.096     0.927   \n",
       "2          -176.0      4.544           0.044          -0.176     0.868   \n",
       "3          -174.0      4.564           0.053          -0.168     0.791   \n",
       "4          -211.0      4.438           0.070          -0.210     1.046   \n",
       "\n",
       "   koi_srad_err1  koi_srad_err2         ra        dec  koi_kepmag  \n",
       "0          0.105         -0.061  291.93423  48.141651      15.347  \n",
       "1          0.105         -0.061  291.93423  48.141651      15.347  \n",
       "2          0.233         -0.078  297.00482  48.134129      15.436  \n",
       "3          0.201         -0.067  285.53461  48.285210      15.597  \n",
       "4          0.334         -0.133  288.75488  48.226200      15.509  \n",
       "\n",
       "[5 rows x 49 columns]"
      ]
     },
     "execution_count": 89,
     "metadata": {},
     "output_type": "execute_result"
    }
   ],
   "source": [
    "data = pd.read_csv('../data/cumulative_2022.04.28_05.30.33.csv', header=53)\n",
    "data.head()\n"
   ]
  },
  {
   "cell_type": "code",
   "execution_count": 90,
   "metadata": {},
   "outputs": [
    {
     "data": {
      "text/html": [
       "<div>\n",
       "<style scoped>\n",
       "    .dataframe tbody tr th:only-of-type {\n",
       "        vertical-align: middle;\n",
       "    }\n",
       "\n",
       "    .dataframe tbody tr th {\n",
       "        vertical-align: top;\n",
       "    }\n",
       "\n",
       "    .dataframe thead th {\n",
       "        text-align: right;\n",
       "    }\n",
       "</style>\n",
       "<table border=\"1\" class=\"dataframe\">\n",
       "  <thead>\n",
       "    <tr style=\"text-align: right;\">\n",
       "      <th></th>\n",
       "      <th>kepid</th>\n",
       "      <th>koi_disposition</th>\n",
       "      <th>koi_pdisposition</th>\n",
       "      <th>koi_score</th>\n",
       "      <th>koi_fpflag_nt</th>\n",
       "      <th>koi_fpflag_ss</th>\n",
       "      <th>koi_fpflag_co</th>\n",
       "      <th>koi_fpflag_ec</th>\n",
       "      <th>koi_period</th>\n",
       "      <th>koi_period_err1</th>\n",
       "      <th>...</th>\n",
       "      <th>koi_steff_err2</th>\n",
       "      <th>koi_slogg</th>\n",
       "      <th>koi_slogg_err1</th>\n",
       "      <th>koi_slogg_err2</th>\n",
       "      <th>koi_srad</th>\n",
       "      <th>koi_srad_err1</th>\n",
       "      <th>koi_srad_err2</th>\n",
       "      <th>ra</th>\n",
       "      <th>dec</th>\n",
       "      <th>koi_kepmag</th>\n",
       "    </tr>\n",
       "  </thead>\n",
       "  <tbody>\n",
       "    <tr>\n",
       "      <th>0</th>\n",
       "      <td>10797460</td>\n",
       "      <td>2</td>\n",
       "      <td>1</td>\n",
       "      <td>1.000</td>\n",
       "      <td>0</td>\n",
       "      <td>0</td>\n",
       "      <td>0</td>\n",
       "      <td>0</td>\n",
       "      <td>9.488036</td>\n",
       "      <td>2.775000e-05</td>\n",
       "      <td>...</td>\n",
       "      <td>-81.0</td>\n",
       "      <td>4.467</td>\n",
       "      <td>0.064</td>\n",
       "      <td>-0.096</td>\n",
       "      <td>0.927</td>\n",
       "      <td>0.105</td>\n",
       "      <td>-0.061</td>\n",
       "      <td>291.93423</td>\n",
       "      <td>48.141651</td>\n",
       "      <td>15.347</td>\n",
       "    </tr>\n",
       "    <tr>\n",
       "      <th>1</th>\n",
       "      <td>10797460</td>\n",
       "      <td>2</td>\n",
       "      <td>1</td>\n",
       "      <td>0.969</td>\n",
       "      <td>0</td>\n",
       "      <td>0</td>\n",
       "      <td>0</td>\n",
       "      <td>0</td>\n",
       "      <td>54.418383</td>\n",
       "      <td>2.479000e-04</td>\n",
       "      <td>...</td>\n",
       "      <td>-81.0</td>\n",
       "      <td>4.467</td>\n",
       "      <td>0.064</td>\n",
       "      <td>-0.096</td>\n",
       "      <td>0.927</td>\n",
       "      <td>0.105</td>\n",
       "      <td>-0.061</td>\n",
       "      <td>291.93423</td>\n",
       "      <td>48.141651</td>\n",
       "      <td>15.347</td>\n",
       "    </tr>\n",
       "    <tr>\n",
       "      <th>2</th>\n",
       "      <td>10811496</td>\n",
       "      <td>1</td>\n",
       "      <td>1</td>\n",
       "      <td>0.000</td>\n",
       "      <td>0</td>\n",
       "      <td>0</td>\n",
       "      <td>0</td>\n",
       "      <td>0</td>\n",
       "      <td>19.899140</td>\n",
       "      <td>1.494000e-05</td>\n",
       "      <td>...</td>\n",
       "      <td>-176.0</td>\n",
       "      <td>4.544</td>\n",
       "      <td>0.044</td>\n",
       "      <td>-0.176</td>\n",
       "      <td>0.868</td>\n",
       "      <td>0.233</td>\n",
       "      <td>-0.078</td>\n",
       "      <td>297.00482</td>\n",
       "      <td>48.134129</td>\n",
       "      <td>15.436</td>\n",
       "    </tr>\n",
       "    <tr>\n",
       "      <th>3</th>\n",
       "      <td>10848459</td>\n",
       "      <td>0</td>\n",
       "      <td>0</td>\n",
       "      <td>0.000</td>\n",
       "      <td>0</td>\n",
       "      <td>1</td>\n",
       "      <td>0</td>\n",
       "      <td>0</td>\n",
       "      <td>1.736952</td>\n",
       "      <td>2.630000e-07</td>\n",
       "      <td>...</td>\n",
       "      <td>-174.0</td>\n",
       "      <td>4.564</td>\n",
       "      <td>0.053</td>\n",
       "      <td>-0.168</td>\n",
       "      <td>0.791</td>\n",
       "      <td>0.201</td>\n",
       "      <td>-0.067</td>\n",
       "      <td>285.53461</td>\n",
       "      <td>48.285210</td>\n",
       "      <td>15.597</td>\n",
       "    </tr>\n",
       "    <tr>\n",
       "      <th>4</th>\n",
       "      <td>10854555</td>\n",
       "      <td>2</td>\n",
       "      <td>1</td>\n",
       "      <td>1.000</td>\n",
       "      <td>0</td>\n",
       "      <td>0</td>\n",
       "      <td>0</td>\n",
       "      <td>0</td>\n",
       "      <td>2.525592</td>\n",
       "      <td>3.761000e-06</td>\n",
       "      <td>...</td>\n",
       "      <td>-211.0</td>\n",
       "      <td>4.438</td>\n",
       "      <td>0.070</td>\n",
       "      <td>-0.210</td>\n",
       "      <td>1.046</td>\n",
       "      <td>0.334</td>\n",
       "      <td>-0.133</td>\n",
       "      <td>288.75488</td>\n",
       "      <td>48.226200</td>\n",
       "      <td>15.509</td>\n",
       "    </tr>\n",
       "  </tbody>\n",
       "</table>\n",
       "<p>5 rows × 44 columns</p>\n",
       "</div>"
      ],
      "text/plain": [
       "      kepid  koi_disposition  koi_pdisposition  koi_score  koi_fpflag_nt  \\\n",
       "0  10797460                2                 1      1.000              0   \n",
       "1  10797460                2                 1      0.969              0   \n",
       "2  10811496                1                 1      0.000              0   \n",
       "3  10848459                0                 0      0.000              0   \n",
       "4  10854555                2                 1      1.000              0   \n",
       "\n",
       "   koi_fpflag_ss  koi_fpflag_co  koi_fpflag_ec  koi_period  koi_period_err1  \\\n",
       "0              0              0              0    9.488036     2.775000e-05   \n",
       "1              0              0              0   54.418383     2.479000e-04   \n",
       "2              0              0              0   19.899140     1.494000e-05   \n",
       "3              1              0              0    1.736952     2.630000e-07   \n",
       "4              0              0              0    2.525592     3.761000e-06   \n",
       "\n",
       "   ...  koi_steff_err2  koi_slogg  koi_slogg_err1  koi_slogg_err2  koi_srad  \\\n",
       "0  ...           -81.0      4.467           0.064          -0.096     0.927   \n",
       "1  ...           -81.0      4.467           0.064          -0.096     0.927   \n",
       "2  ...          -176.0      4.544           0.044          -0.176     0.868   \n",
       "3  ...          -174.0      4.564           0.053          -0.168     0.791   \n",
       "4  ...          -211.0      4.438           0.070          -0.210     1.046   \n",
       "\n",
       "   koi_srad_err1  koi_srad_err2         ra        dec  koi_kepmag  \n",
       "0          0.105         -0.061  291.93423  48.141651      15.347  \n",
       "1          0.105         -0.061  291.93423  48.141651      15.347  \n",
       "2          0.233         -0.078  297.00482  48.134129      15.436  \n",
       "3          0.201         -0.067  285.53461  48.285210      15.597  \n",
       "4          0.334         -0.133  288.75488  48.226200      15.509  \n",
       "\n",
       "[5 rows x 44 columns]"
      ]
     },
     "execution_count": 90,
     "metadata": {},
     "output_type": "execute_result"
    }
   ],
   "source": [
    "# Pop the columns:\n",
    "\n",
    "to_pop = [\"kepoi_name\", \"kepler_name\", \"koi_teq_err1\",\n",
    "          \"koi_teq_err2\", \"koi_tce_delivname\"]\n",
    "\n",
    "for col in to_pop:\n",
    "    data.pop(col)\n",
    "\n",
    "# Numerische Werte:\n",
    "koi_disposition_dict = {'FALSE POSITIVE': 0, 'CANDIDATE': 1, 'CONFIRMED': 2}\n",
    "data[\"koi_disposition\"] = data[\"koi_disposition\"].replace(\n",
    "    koi_disposition_dict)\n",
    "\n",
    "koi_pdisposition_dict = {'FALSE POSITIVE': 0, 'CANDIDATE': 1}\n",
    "data[\"koi_pdisposition\"] = data[\"koi_pdisposition\"].replace(\n",
    "    koi_pdisposition_dict)\n",
    "data.head()\n"
   ]
  },
  {
   "cell_type": "code",
   "execution_count": 91,
   "metadata": {},
   "outputs": [
    {
     "name": "stdout",
     "output_type": "stream",
     "text": [
      "(9564, 44)\n"
     ]
    },
    {
     "data": {
      "text/plain": [
       "kepid                   0\n",
       "koi_disposition         0\n",
       "koi_pdisposition        0\n",
       "koi_score            1510\n",
       "koi_fpflag_nt           0\n",
       "koi_fpflag_ss           0\n",
       "koi_fpflag_co           0\n",
       "koi_fpflag_ec           0\n",
       "koi_period              0\n",
       "koi_period_err1       454\n",
       "koi_period_err2       454\n",
       "koi_time0bk             0\n",
       "koi_time0bk_err1      454\n",
       "koi_time0bk_err2      454\n",
       "koi_impact            363\n",
       "koi_impact_err1       454\n",
       "koi_impact_err2       454\n",
       "koi_duration            0\n",
       "koi_duration_err1     454\n",
       "koi_duration_err2     454\n",
       "koi_depth             363\n",
       "koi_depth_err1        454\n",
       "koi_depth_err2        454\n",
       "koi_prad              363\n",
       "koi_prad_err1         363\n",
       "koi_prad_err2         363\n",
       "koi_teq               363\n",
       "koi_insol             321\n",
       "koi_insol_err1        321\n",
       "koi_insol_err2        321\n",
       "koi_model_snr         363\n",
       "koi_tce_plnt_num      346\n",
       "koi_steff             363\n",
       "koi_steff_err1        468\n",
       "koi_steff_err2        483\n",
       "koi_slogg             363\n",
       "koi_slogg_err1        468\n",
       "koi_slogg_err2        468\n",
       "koi_srad              363\n",
       "koi_srad_err1         468\n",
       "koi_srad_err2         468\n",
       "ra                      0\n",
       "dec                     0\n",
       "koi_kepmag              1\n",
       "dtype: int64"
      ]
     },
     "execution_count": 91,
     "metadata": {},
     "output_type": "execute_result"
    }
   ],
   "source": [
    "# Testen, ob Imputing Werte verfälscht.\n",
    "#data = data[data['koi_score'].notna()]\n",
    "#for column in data:\n",
    "#    print(data[column][data[column].isna()])\n",
    "print(data.shape)\n",
    "data.isna().sum()\n"
   ]
  },
  {
   "cell_type": "code",
   "execution_count": 92,
   "metadata": {},
   "outputs": [
    {
     "name": "stdout",
     "output_type": "stream",
     "text": [
      "Insgesamt gibt es 13813 NaN-Werte\n",
      "Anteil der NaN-Werte an Allen Werten = 0.03282432226911524\n",
      "(Also sollten dieser Anteil an Werten beim Imputing-Test durch NaNs ersetzt werden.\n"
     ]
    }
   ],
   "source": [
    "number_of_nan = data.isna().sum().sum()\n",
    "number_of_values = np.shape(data)[0]*np.shape(data)[1]\n",
    "ratio_nan_to_numbers = number_of_nan/number_of_values\n",
    "print(f\"Insgesamt gibt es {data.isna().sum().sum()} NaN-Werte\")\n",
    "print(\n",
    "    f\"Anteil der NaN-Werte an Allen Werten = {ratio_nan_to_numbers}\")\n",
    "print(f\"(Also sollten dieser Anteil an Werten beim Imputing-Test durch NaNs ersetzt werden.\")\n"
   ]
  },
  {
   "cell_type": "code",
   "execution_count": 93,
   "metadata": {},
   "outputs": [
    {
     "name": "stdout",
     "output_type": "stream",
     "text": [
      "(9564, 44)\n",
      "(7803, 44)\n",
      "Es sollten 11269.640213299874 Werte im Imputing-Test-Datensatz durch NaN ersetzt werden.\n"
     ]
    }
   ],
   "source": [
    "print(data.shape)\n",
    "data_imptest = data.dropna()\n",
    "print(data_imptest.shape)\n",
    "number_of_values_imptest = np.shape(data_imptest)[0]*np.shape(data_imptest)[1]\n",
    "values_to_remove = number_of_values_imptest*ratio_nan_to_numbers\n",
    "#data_imptest.isna().sum()\n",
    "print(\n",
    "    f\"Es sollten {values_to_remove} Werte im Imputing-Test-Datensatz durch NaN ersetzt werden.\")\n"
   ]
  },
  {
   "cell_type": "code",
   "execution_count": 94,
   "metadata": {},
   "outputs": [
    {
     "name": "stdout",
     "output_type": "stream",
     "text": [
      "(7803, 43)\n"
     ]
    },
    {
     "data": {
      "text/plain": [
       "pandas.core.frame.DataFrame"
      ]
     },
     "execution_count": 94,
     "metadata": {},
     "output_type": "execute_result"
    }
   ],
   "source": [
    "x_original = data_imptest.drop(['koi_disposition'], axis=1)\n",
    "y = data_imptest['koi_disposition']\n",
    "x = x_original.copy()\n",
    "print(x_original.shape)\n",
    "type(x_original)\n",
    "#x.iloc[0:10,0:10]\n"
   ]
  },
  {
   "cell_type": "code",
   "execution_count": 95,
   "metadata": {},
   "outputs": [],
   "source": [
    "remove_n = int(round(values_to_remove))\n",
    "# Array mit Länge remove_n, gefüllt mit zufälligen Ganzzahlen zwischen 0 und der Anzahl der Zeilen\n",
    "rows = np.random.randint(0,x.shape[0],size=remove_n)\n",
    "# Array mit Länge remove_n, gefüllt mit zufälligen Ganzzahlen zwischen 0 und der Anzahl der Spalten\n",
    "cols = np.random.randint(0,x.shape[1],size=remove_n)\n"
   ]
  },
  {
   "cell_type": "code",
   "execution_count": 96,
   "metadata": {},
   "outputs": [
    {
     "name": "stdout",
     "output_type": "stream",
     "text": [
      "(7803, 43)\n",
      "(7803, 43)\n"
     ]
    }
   ],
   "source": [
    "print(x.shape)\n",
    "for ri, ci in list(zip(rows, cols)):\n",
    "    #print(\"x[ri, ci].shape =\", x[ri, ci].shape)\n",
    "    #print(x[ri,ci])\n",
    "    #print(\"ri =\", ri, \"ci =\", ci)\n",
    "    x.iloc[ri,ci] = np.nan\n",
    "    #print(x[ri, ci])\n",
    "\n",
    "print(x.shape)\n"
   ]
  },
  {
   "cell_type": "code",
   "execution_count": 97,
   "metadata": {},
   "outputs": [
    {
     "name": "stdout",
     "output_type": "stream",
     "text": [
      "(7803, 43)\n",
      "(7803,)\n",
      "11076 von 335529 Werten fehlen\n"
     ]
    }
   ],
   "source": [
    "print(x.shape)\n",
    "print(y.shape)\n",
    "print(f\"{np.count_nonzero(np.isnan(x))} von {x.size} Werten fehlen\")"
   ]
  },
  {
   "cell_type": "code",
   "execution_count": 98,
   "metadata": {},
   "outputs": [],
   "source": [
    "x_train, x_test, y_train, y_test = train_test_split(\n",
    "    x, y, test_size=0.33, random_state=45)\n",
    "\n"
   ]
  },
  {
   "cell_type": "code",
   "execution_count": 99,
   "metadata": {},
   "outputs": [
    {
     "name": "stdout",
     "output_type": "stream",
     "text": [
      "7449 von 224804 Werten im Trainingsdatensatz fehlen\n",
      "3627 von 110725 Werten im Testdatensatz fehlen\n"
     ]
    }
   ],
   "source": [
    "print(f\"{np.count_nonzero(np.isnan(x_train))} von {x_train.size} Werten im Trainingsdatensatz fehlen\")\n",
    "print(f\"{np.count_nonzero(np.isnan(x_test))} von {x_test.size} Werten im Testdatensatz fehlen\")\n"
   ]
  },
  {
   "cell_type": "code",
   "execution_count": 100,
   "metadata": {},
   "outputs": [
    {
     "data": {
      "text/plain": [
       "kepid                7.680599e+06\n",
       "koi_pdisposition     5.191051e-01\n",
       "koi_score            4.882082e-01\n",
       "koi_fpflag_nt        1.870688e-01\n",
       "koi_fpflag_ss        2.682540e-01\n",
       "koi_fpflag_co        2.198891e-01\n",
       "koi_fpflag_ec        1.319115e-01\n",
       "koi_period           3.627106e+01\n",
       "koi_period_err1      9.035938e-04\n",
       "koi_period_err2     -9.003968e-04\n",
       "koi_time0bk          1.575051e+02\n",
       "koi_time0bk_err1     7.549633e-03\n",
       "koi_time0bk_err2    -7.480963e-03\n",
       "koi_impact           6.141271e-01\n",
       "koi_impact_err1      2.202210e+00\n",
       "koi_impact_err2     -2.873515e-01\n",
       "koi_duration         5.353705e+00\n",
       "koi_duration_err1    2.474873e-01\n",
       "koi_duration_err2   -2.474794e-01\n",
       "koi_depth            2.613017e+04\n",
       "koi_depth_err1       6.482479e+01\n",
       "koi_depth_err2      -6.508268e+01\n",
       "koi_prad             2.958229e+01\n",
       "koi_prad_err1        7.416846e+00\n",
       "koi_prad_err2       -8.223409e+00\n",
       "koi_teq              1.135930e+03\n",
       "koi_insol            6.712987e+03\n",
       "koi_insol_err1       3.057235e+03\n",
       "koi_insol_err2      -3.690540e+03\n",
       "koi_model_snr        3.064152e+02\n",
       "koi_tce_plnt_num     1.244559e+00\n",
       "koi_steff            5.690904e+03\n",
       "koi_steff_err1       1.416372e+02\n",
       "koi_steff_err2      -1.581969e+02\n",
       "koi_slogg            4.318184e+00\n",
       "koi_slogg_err1       1.192342e-01\n",
       "koi_slogg_err2      -1.309758e-01\n",
       "koi_srad             1.691089e+00\n",
       "koi_srad_err1        3.115896e-01\n",
       "koi_srad_err2       -3.805300e-01\n",
       "ra                   2.920897e+02\n",
       "dec                  4.378331e+01\n",
       "koi_kepmag           1.430589e+01\n",
       "dtype: float64"
      ]
     },
     "execution_count": 100,
     "metadata": {},
     "output_type": "execute_result"
    }
   ],
   "source": [
    "mean = np.mean(x_train, axis=0)\n",
    "mean\n"
   ]
  },
  {
   "cell_type": "code",
   "execution_count": 101,
   "metadata": {},
   "outputs": [],
   "source": [
    "#print(x_train[:20])\n",
    "knn_imputer = KNNImputer()\n",
    "knn_imputer.fit(x_train)\n",
    "x_train = knn_imputer.transform(x_train)\n",
    "x_test = knn_imputer.transform(x_test)\n",
    "#x_train[:20]\n"
   ]
  },
  {
   "cell_type": "code",
   "execution_count": 102,
   "metadata": {},
   "outputs": [
    {
     "name": "stdout",
     "output_type": "stream",
     "text": [
      "0 von 224804 Werten im Trainingsdatensatz fehlen\n",
      "0 von 110725 Werten im Testdatensatz fehlen\n"
     ]
    }
   ],
   "source": [
    "print(f\"{np.count_nonzero(np.isnan(x_train))} von {x_train.size} Werten im Trainingsdatensatz fehlen\")\n",
    "print(f\"{np.count_nonzero(np.isnan(x_test))} von {x_test.size} Werten im Testdatensatz fehlen\")\n"
   ]
  },
  {
   "cell_type": "code",
   "execution_count": 108,
   "metadata": {},
   "outputs": [
    {
     "name": "stderr",
     "output_type": "stream",
     "text": [
      "c:\\Users\\Marco\\Documents\\GitHub\\Kepler-Exoplaneten-ML-Projekt\\.venv\\lib\\site-packages\\sklearn\\base.py:443: UserWarning: X has feature names, but KNNImputer was fitted without feature names\n",
      "  warnings.warn(\n"
     ]
    },
    {
     "data": {
      "text/plain": [
       "6485793464.908249"
      ]
     },
     "execution_count": 108,
     "metadata": {},
     "output_type": "execute_result"
    }
   ],
   "source": [
    "mean_squared_error(knn_imputer.transform(x),x_original)"
   ]
  },
  {
   "cell_type": "code",
   "execution_count": null,
   "metadata": {},
   "outputs": [],
   "source": []
  },
  {
   "cell_type": "code",
   "execution_count": 105,
   "metadata": {},
   "outputs": [
    {
     "name": "stderr",
     "output_type": "stream",
     "text": [
      "c:\\Users\\Marco\\Documents\\GitHub\\Kepler-Exoplaneten-ML-Projekt\\.venv\\lib\\site-packages\\sklearn\\base.py:443: UserWarning: X has feature names, but SimpleImputer was fitted without feature names\n",
      "  warnings.warn(\n",
      "c:\\Users\\Marco\\Documents\\GitHub\\Kepler-Exoplaneten-ML-Projekt\\.venv\\lib\\site-packages\\sklearn\\base.py:443: UserWarning: X has feature names, but SimpleImputer was fitted without feature names\n",
      "  warnings.warn(\n",
      "c:\\Users\\Marco\\Documents\\GitHub\\Kepler-Exoplaneten-ML-Projekt\\.venv\\lib\\site-packages\\sklearn\\base.py:443: UserWarning: X has feature names, but SimpleImputer was fitted without feature names\n",
      "  warnings.warn(\n",
      "c:\\Users\\Marco\\Documents\\GitHub\\Kepler-Exoplaneten-ML-Projekt\\.venv\\lib\\site-packages\\sklearn\\base.py:443: UserWarning: X has feature names, but SimpleImputer was fitted without feature names\n",
      "  warnings.warn(\n",
      "c:\\Users\\Marco\\Documents\\GitHub\\Kepler-Exoplaneten-ML-Projekt\\.venv\\lib\\site-packages\\sklearn\\base.py:443: UserWarning: X has feature names, but SimpleImputer was fitted without feature names\n",
      "  warnings.warn(\n",
      "c:\\Users\\Marco\\Documents\\GitHub\\Kepler-Exoplaneten-ML-Projekt\\.venv\\lib\\site-packages\\sklearn\\base.py:443: UserWarning: X has feature names, but SimpleImputer was fitted without feature names\n",
      "  warnings.warn(\n",
      "c:\\Users\\Marco\\Documents\\GitHub\\Kepler-Exoplaneten-ML-Projekt\\.venv\\lib\\site-packages\\sklearn\\base.py:443: UserWarning: X has feature names, but SimpleImputer was fitted without feature names\n",
      "  warnings.warn(\n",
      "c:\\Users\\Marco\\Documents\\GitHub\\Kepler-Exoplaneten-ML-Projekt\\.venv\\lib\\site-packages\\sklearn\\base.py:443: UserWarning: X has feature names, but SimpleImputer was fitted without feature names\n",
      "  warnings.warn(\n",
      "c:\\Users\\Marco\\Documents\\GitHub\\Kepler-Exoplaneten-ML-Projekt\\.venv\\lib\\site-packages\\sklearn\\base.py:443: UserWarning: X has feature names, but SimpleImputer was fitted without feature names\n",
      "  warnings.warn(\n",
      "c:\\Users\\Marco\\Documents\\GitHub\\Kepler-Exoplaneten-ML-Projekt\\.venv\\lib\\site-packages\\sklearn\\base.py:443: UserWarning: X has feature names, but SimpleImputer was fitted without feature names\n",
      "  warnings.warn(\n",
      "c:\\Users\\Marco\\Documents\\GitHub\\Kepler-Exoplaneten-ML-Projekt\\.venv\\lib\\site-packages\\sklearn\\base.py:443: UserWarning: X has feature names, but SimpleImputer was fitted without feature names\n",
      "  warnings.warn(\n",
      "c:\\Users\\Marco\\Documents\\GitHub\\Kepler-Exoplaneten-ML-Projekt\\.venv\\lib\\site-packages\\sklearn\\base.py:443: UserWarning: X has feature names, but SimpleImputer was fitted without feature names\n",
      "  warnings.warn(\n",
      "c:\\Users\\Marco\\Documents\\GitHub\\Kepler-Exoplaneten-ML-Projekt\\.venv\\lib\\site-packages\\sklearn\\base.py:443: UserWarning: X has feature names, but SimpleImputer was fitted without feature names\n",
      "  warnings.warn(\n",
      "c:\\Users\\Marco\\Documents\\GitHub\\Kepler-Exoplaneten-ML-Projekt\\.venv\\lib\\site-packages\\sklearn\\base.py:443: UserWarning: X has feature names, but SimpleImputer was fitted without feature names\n",
      "  warnings.warn(\n",
      "c:\\Users\\Marco\\Documents\\GitHub\\Kepler-Exoplaneten-ML-Projekt\\.venv\\lib\\site-packages\\sklearn\\base.py:443: UserWarning: X has feature names, but SimpleImputer was fitted without feature names\n",
      "  warnings.warn(\n",
      "c:\\Users\\Marco\\Documents\\GitHub\\Kepler-Exoplaneten-ML-Projekt\\.venv\\lib\\site-packages\\sklearn\\base.py:443: UserWarning: X has feature names, but SimpleImputer was fitted without feature names\n",
      "  warnings.warn(\n",
      "c:\\Users\\Marco\\Documents\\GitHub\\Kepler-Exoplaneten-ML-Projekt\\.venv\\lib\\site-packages\\sklearn\\base.py:443: UserWarning: X has feature names, but SimpleImputer was fitted without feature names\n",
      "  warnings.warn(\n",
      "c:\\Users\\Marco\\Documents\\GitHub\\Kepler-Exoplaneten-ML-Projekt\\.venv\\lib\\site-packages\\sklearn\\base.py:443: UserWarning: X has feature names, but SimpleImputer was fitted without feature names\n",
      "  warnings.warn(\n",
      "c:\\Users\\Marco\\Documents\\GitHub\\Kepler-Exoplaneten-ML-Projekt\\.venv\\lib\\site-packages\\sklearn\\base.py:443: UserWarning: X has feature names, but SimpleImputer was fitted without feature names\n",
      "  warnings.warn(\n",
      "c:\\Users\\Marco\\Documents\\GitHub\\Kepler-Exoplaneten-ML-Projekt\\.venv\\lib\\site-packages\\sklearn\\base.py:443: UserWarning: X has feature names, but SimpleImputer was fitted without feature names\n",
      "  warnings.warn(\n"
     ]
    },
    {
     "data": {
      "image/png": "[encoded data removed]",
      "text/plain": [
       "<Figure size 576x432 with 1 Axes>"
      ]
     },
     "metadata": {
      "needs_background": "light"
     },
     "output_type": "display_data"
    }
   ],
   "source": [
    "plt.figure(figsize=(8, 6))\n",
    "label_imputed, label_original = \"\", \"\"\n",
    "for i in range(10):\n",
    "    # Plot Labels nur einmal\n",
    "    if i == 9:\n",
    "        label_imputed = \"Imputed\"\n",
    "        label_original = \"Original\"\n",
    "\n",
    "    # Errechne die fehlenden Werte\n",
    "    x1, x2 = imputer.transform(x)[rows[np.where(cols <= 1)][i], :1], imputer.transform(x)[rows[np.where(cols <= 1)][i], 1:2]\n",
    "\n",
    "    # Plotte die Imputed Werte und fortlaufende Nummer\n",
    "    plt.scatter(x1, x2, c=\"#CC1B58\", label=label_imputed)\n",
    "    plt.text(x1-0.03, x2+0.1, str(i), c=\"#CC1B58\")\n",
    "\n",
    "    # Plotte die originalen Werte und fortlaufende Nummmer\n",
    "    plt.scatter(x_original.iloc[rows[np.where(cols <= 1)][i], :1], x_original.iloc[rows[np.where(cols <= 1)][i], 1:2], c=\"#1ACC94\", label=label_original)\n",
    "    plt.text(x_original.iloc[rows[np.where(cols <= 1)][i], :1]-0.03,\n",
    "             x_original.iloc[rows[np.where(cols <= 1)][i], 1:2]+0.1, str(i), c=\"#1ACC94\")\n",
    "\n",
    "# Plot beschreiben\n",
    "#plt.xlim(np.min(x_original.iloc[:, :1]), np.max(x_original.iloc[:, :1]))\n",
    "#plt.ylim(np.min(x_original.iloc[:, 1:2]), np.max(x_original.iloc[:, 1:2]))\n",
    "plt.title(\"Imputed und Originale Werte\")\n",
    "plt.legend()\n",
    "plt.xlabel(\"$x_1$\")\n",
    "plt.ylabel(\"$x_2$\")\n",
    "plt.show()\n"
   ]
  },
  {
   "cell_type": "code",
   "execution_count": 106,
   "metadata": {},
   "outputs": [
    {
     "data": {
      "text/html": [
       "<div>\n",
       "<style scoped>\n",
       "    .dataframe tbody tr th:only-of-type {\n",
       "        vertical-align: middle;\n",
       "    }\n",
       "\n",
       "    .dataframe tbody tr th {\n",
       "        vertical-align: top;\n",
       "    }\n",
       "\n",
       "    .dataframe thead th {\n",
       "        text-align: right;\n",
       "    }\n",
       "</style>\n",
       "<table border=\"1\" class=\"dataframe\">\n",
       "  <thead>\n",
       "    <tr style=\"text-align: right;\">\n",
       "      <th></th>\n",
       "      <th>ra</th>\n",
       "      <th>dec</th>\n",
       "    </tr>\n",
       "  </thead>\n",
       "  <tbody>\n",
       "    <tr>\n",
       "      <th>3511</th>\n",
       "      <td>284.56689</td>\n",
       "      <td>49.012550</td>\n",
       "    </tr>\n",
       "    <tr>\n",
       "      <th>3328</th>\n",
       "      <td>287.43918</td>\n",
       "      <td>43.832088</td>\n",
       "    </tr>\n",
       "  </tbody>\n",
       "</table>\n",
       "</div>"
      ],
      "text/plain": [
       "             ra        dec\n",
       "3511  284.56689  49.012550\n",
       "3328  287.43918  43.832088"
      ]
     },
     "execution_count": 106,
     "metadata": {},
     "output_type": "execute_result"
    }
   ],
   "source": [
    "x_original.iloc[rows[np.where(cols <= 1)][0:2], 40:42]\n"
   ]
  },
  {
   "cell_type": "code",
   "execution_count": null,
   "metadata": {},
   "outputs": [],
   "source": []
  },
  {
   "cell_type": "code",
   "execution_count": 107,
   "metadata": {},
   "outputs": [
    {
     "name": "stderr",
     "output_type": "stream",
     "text": [
      "c:\\Users\\Marco\\Documents\\GitHub\\Kepler-Exoplaneten-ML-Projekt\\.venv\\lib\\site-packages\\sklearn\\base.py:443: UserWarning: X has feature names, but SimpleImputer was fitted without feature names\n",
      "  warnings.warn(\n",
      "c:\\Users\\Marco\\Documents\\GitHub\\Kepler-Exoplaneten-ML-Projekt\\.venv\\lib\\site-packages\\sklearn\\base.py:443: UserWarning: X has feature names, but SimpleImputer was fitted without feature names\n",
      "  warnings.warn(\n",
      "c:\\Users\\Marco\\Documents\\GitHub\\Kepler-Exoplaneten-ML-Projekt\\.venv\\lib\\site-packages\\sklearn\\base.py:443: UserWarning: X has feature names, but KNNImputer was fitted without feature names\n",
      "  warnings.warn(\n",
      "c:\\Users\\Marco\\Documents\\GitHub\\Kepler-Exoplaneten-ML-Projekt\\.venv\\lib\\site-packages\\sklearn\\base.py:443: UserWarning: X has feature names, but KNNImputer was fitted without feature names\n",
      "  warnings.warn(\n",
      "c:\\Users\\Marco\\Documents\\GitHub\\Kepler-Exoplaneten-ML-Projekt\\.venv\\lib\\site-packages\\sklearn\\base.py:443: UserWarning: X has feature names, but SimpleImputer was fitted without feature names\n",
      "  warnings.warn(\n",
      "c:\\Users\\Marco\\Documents\\GitHub\\Kepler-Exoplaneten-ML-Projekt\\.venv\\lib\\site-packages\\sklearn\\base.py:443: UserWarning: X has feature names, but SimpleImputer was fitted without feature names\n",
      "  warnings.warn(\n",
      "c:\\Users\\Marco\\Documents\\GitHub\\Kepler-Exoplaneten-ML-Projekt\\.venv\\lib\\site-packages\\sklearn\\base.py:443: UserWarning: X has feature names, but KNNImputer was fitted without feature names\n",
      "  warnings.warn(\n",
      "c:\\Users\\Marco\\Documents\\GitHub\\Kepler-Exoplaneten-ML-Projekt\\.venv\\lib\\site-packages\\sklearn\\base.py:443: UserWarning: X has feature names, but KNNImputer was fitted without feature names\n",
      "  warnings.warn(\n",
      "c:\\Users\\Marco\\Documents\\GitHub\\Kepler-Exoplaneten-ML-Projekt\\.venv\\lib\\site-packages\\sklearn\\base.py:443: UserWarning: X has feature names, but SimpleImputer was fitted without feature names\n",
      "  warnings.warn(\n",
      "c:\\Users\\Marco\\Documents\\GitHub\\Kepler-Exoplaneten-ML-Projekt\\.venv\\lib\\site-packages\\sklearn\\base.py:443: UserWarning: X has feature names, but SimpleImputer was fitted without feature names\n",
      "  warnings.warn(\n",
      "c:\\Users\\Marco\\Documents\\GitHub\\Kepler-Exoplaneten-ML-Projekt\\.venv\\lib\\site-packages\\sklearn\\base.py:443: UserWarning: X has feature names, but KNNImputer was fitted without feature names\n",
      "  warnings.warn(\n",
      "c:\\Users\\Marco\\Documents\\GitHub\\Kepler-Exoplaneten-ML-Projekt\\.venv\\lib\\site-packages\\sklearn\\base.py:443: UserWarning: X has feature names, but KNNImputer was fitted without feature names\n",
      "  warnings.warn(\n",
      "c:\\Users\\Marco\\Documents\\GitHub\\Kepler-Exoplaneten-ML-Projekt\\.venv\\lib\\site-packages\\sklearn\\base.py:443: UserWarning: X has feature names, but SimpleImputer was fitted without feature names\n",
      "  warnings.warn(\n",
      "c:\\Users\\Marco\\Documents\\GitHub\\Kepler-Exoplaneten-ML-Projekt\\.venv\\lib\\site-packages\\sklearn\\base.py:443: UserWarning: X has feature names, but SimpleImputer was fitted without feature names\n",
      "  warnings.warn(\n",
      "c:\\Users\\Marco\\Documents\\GitHub\\Kepler-Exoplaneten-ML-Projekt\\.venv\\lib\\site-packages\\sklearn\\base.py:443: UserWarning: X has feature names, but KNNImputer was fitted without feature names\n",
      "  warnings.warn(\n",
      "c:\\Users\\Marco\\Documents\\GitHub\\Kepler-Exoplaneten-ML-Projekt\\.venv\\lib\\site-packages\\sklearn\\base.py:443: UserWarning: X has feature names, but KNNImputer was fitted without feature names\n",
      "  warnings.warn(\n",
      "c:\\Users\\Marco\\Documents\\GitHub\\Kepler-Exoplaneten-ML-Projekt\\.venv\\lib\\site-packages\\sklearn\\base.py:443: UserWarning: X has feature names, but SimpleImputer was fitted without feature names\n",
      "  warnings.warn(\n",
      "c:\\Users\\Marco\\Documents\\GitHub\\Kepler-Exoplaneten-ML-Projekt\\.venv\\lib\\site-packages\\sklearn\\base.py:443: UserWarning: X has feature names, but SimpleImputer was fitted without feature names\n",
      "  warnings.warn(\n",
      "c:\\Users\\Marco\\Documents\\GitHub\\Kepler-Exoplaneten-ML-Projekt\\.venv\\lib\\site-packages\\sklearn\\base.py:443: UserWarning: X has feature names, but KNNImputer was fitted without feature names\n",
      "  warnings.warn(\n",
      "c:\\Users\\Marco\\Documents\\GitHub\\Kepler-Exoplaneten-ML-Projekt\\.venv\\lib\\site-packages\\sklearn\\base.py:443: UserWarning: X has feature names, but KNNImputer was fitted without feature names\n",
      "  warnings.warn(\n",
      "c:\\Users\\Marco\\Documents\\GitHub\\Kepler-Exoplaneten-ML-Projekt\\.venv\\lib\\site-packages\\numpy\\core\\fromnumeric.py:84: FutureWarning: In a future version, DataFrame.min(axis=None) will return a scalar min over the entire DataFrame. To retain the old behavior, use 'frame.min(axis=0)' or just 'frame.min()'\n",
      "  return reduction(axis=axis, out=out, **passkwargs)\n",
      "c:\\Users\\Marco\\Documents\\GitHub\\Kepler-Exoplaneten-ML-Projekt\\.venv\\lib\\site-packages\\numpy\\core\\fromnumeric.py:84: FutureWarning: In a future version, DataFrame.max(axis=None) will return a scalar max over the entire DataFrame. To retain the old behavior, use 'frame.max(axis=0)' or just 'frame.max()'\n",
      "  return reduction(axis=axis, out=out, **passkwargs)\n"
     ]
    },
    {
     "ename": "ValueError",
     "evalue": "The truth value of a Series is ambiguous. Use a.empty, a.bool(), a.item(), a.any() or a.all().",
     "output_type": "error",
     "traceback": [
      "\u001b[1;31m---------------------------------------------------------------------------\u001b[0m",
      "\u001b[1;31mValueError\u001b[0m                                Traceback (most recent call last)",
      "\u001b[1;32mc:\\Users\\Marco\\Documents\\GitHub\\Kepler-Exoplaneten-ML-Projekt\\src\\explor-praeprozess.ipynb Cell 23'\u001b[0m in \u001b[0;36m<cell line: 38>\u001b[1;34m()\u001b[0m\n\u001b[0;32m     <a href='vscode-notebook-cell:/c%3A/Users/Marco/Documents/GitHub/Kepler-Exoplaneten-ML-Projekt/src/explor-praeprozess.ipynb#ch0000016?line=33'>34</a>\u001b[0m     plt\u001b[39m.\u001b[39mtext(x_original\u001b[39m.\u001b[39miloc[rows[np\u001b[39m.\u001b[39mwhere(cols \u001b[39m<\u001b[39m\u001b[39m=\u001b[39m \u001b[39m1\u001b[39m)][i], :\u001b[39m1\u001b[39m]\u001b[39m-\u001b[39m\u001b[39m0.03\u001b[39m,\n\u001b[0;32m     <a href='vscode-notebook-cell:/c%3A/Users/Marco/Documents/GitHub/Kepler-Exoplaneten-ML-Projekt/src/explor-praeprozess.ipynb#ch0000016?line=34'>35</a>\u001b[0m              x_original\u001b[39m.\u001b[39miloc[rows[np\u001b[39m.\u001b[39mwhere(cols \u001b[39m<\u001b[39m\u001b[39m=\u001b[39m \u001b[39m1\u001b[39m)][i], \u001b[39m1\u001b[39m:\u001b[39m2\u001b[39m]\u001b[39m+\u001b[39m\u001b[39m0.1\u001b[39m, \u001b[39mstr\u001b[39m(i), c\u001b[39m=\u001b[39m\u001b[39m\"\u001b[39m\u001b[39m#1ACC94\u001b[39m\u001b[39m\"\u001b[39m)\n\u001b[0;32m     <a href='vscode-notebook-cell:/c%3A/Users/Marco/Documents/GitHub/Kepler-Exoplaneten-ML-Projekt/src/explor-praeprozess.ipynb#ch0000016?line=36'>37</a>\u001b[0m \u001b[39m# Plot beschreiben\u001b[39;00m\n\u001b[1;32m---> <a href='vscode-notebook-cell:/c%3A/Users/Marco/Documents/GitHub/Kepler-Exoplaneten-ML-Projekt/src/explor-praeprozess.ipynb#ch0000016?line=37'>38</a>\u001b[0m plt\u001b[39m.\u001b[39;49mxlim(np\u001b[39m.\u001b[39;49mmin(x_original\u001b[39m.\u001b[39;49miloc[:, :\u001b[39m1\u001b[39;49m]), np\u001b[39m.\u001b[39;49mmax(x_original\u001b[39m.\u001b[39;49miloc[:, :\u001b[39m1\u001b[39;49m]))\n\u001b[0;32m     <a href='vscode-notebook-cell:/c%3A/Users/Marco/Documents/GitHub/Kepler-Exoplaneten-ML-Projekt/src/explor-praeprozess.ipynb#ch0000016?line=38'>39</a>\u001b[0m plt\u001b[39m.\u001b[39mylim(np\u001b[39m.\u001b[39mmin(x_original\u001b[39m.\u001b[39miloc[:, \u001b[39m1\u001b[39m:\u001b[39m2\u001b[39m]), np\u001b[39m.\u001b[39mmax(x_original\u001b[39m.\u001b[39miloc[:, \u001b[39m1\u001b[39m:\u001b[39m2\u001b[39m]))\n\u001b[0;32m     <a href='vscode-notebook-cell:/c%3A/Users/Marco/Documents/GitHub/Kepler-Exoplaneten-ML-Projekt/src/explor-praeprozess.ipynb#ch0000016?line=39'>40</a>\u001b[0m plt\u001b[39m.\u001b[39mtitle(\u001b[39m\"\u001b[39m\u001b[39mImputierte und originale Werte\u001b[39m\u001b[39m\"\u001b[39m)\n",
      "File \u001b[1;32mc:\\Users\\Marco\\Documents\\GitHub\\Kepler-Exoplaneten-ML-Projekt\\.venv\\lib\\site-packages\\matplotlib\\pyplot.py:1699\u001b[0m, in \u001b[0;36mxlim\u001b[1;34m(*args, **kwargs)\u001b[0m\n\u001b[0;32m   <a href='file:///c%3A/Users/Marco/Documents/GitHub/Kepler-Exoplaneten-ML-Projekt/.venv/lib/site-packages/matplotlib/pyplot.py?line=1696'>1697</a>\u001b[0m \u001b[39mif\u001b[39;00m \u001b[39mnot\u001b[39;00m args \u001b[39mand\u001b[39;00m \u001b[39mnot\u001b[39;00m kwargs:\n\u001b[0;32m   <a href='file:///c%3A/Users/Marco/Documents/GitHub/Kepler-Exoplaneten-ML-Projekt/.venv/lib/site-packages/matplotlib/pyplot.py?line=1697'>1698</a>\u001b[0m     \u001b[39mreturn\u001b[39;00m ax\u001b[39m.\u001b[39mget_xlim()\n\u001b[1;32m-> <a href='file:///c%3A/Users/Marco/Documents/GitHub/Kepler-Exoplaneten-ML-Projekt/.venv/lib/site-packages/matplotlib/pyplot.py?line=1698'>1699</a>\u001b[0m ret \u001b[39m=\u001b[39m ax\u001b[39m.\u001b[39mset_xlim(\u001b[39m*\u001b[39margs, \u001b[39m*\u001b[39m\u001b[39m*\u001b[39mkwargs)\n\u001b[0;32m   <a href='file:///c%3A/Users/Marco/Documents/GitHub/Kepler-Exoplaneten-ML-Projekt/.venv/lib/site-packages/matplotlib/pyplot.py?line=1699'>1700</a>\u001b[0m \u001b[39mreturn\u001b[39;00m ret\n",
      "File \u001b[1;32mc:\\Users\\Marco\\Documents\\GitHub\\Kepler-Exoplaneten-ML-Projekt\\.venv\\lib\\site-packages\\matplotlib\\axes\\_base.py:3716\u001b[0m, in \u001b[0;36m_AxesBase.set_xlim\u001b[1;34m(self, left, right, emit, auto, xmin, xmax)\u001b[0m\n\u001b[0;32m   <a href='file:///c%3A/Users/Marco/Documents/GitHub/Kepler-Exoplaneten-ML-Projekt/.venv/lib/site-packages/matplotlib/axes/_base.py?line=3710'>3711</a>\u001b[0m         _api\u001b[39m.\u001b[39mwarn_external(\n\u001b[0;32m   <a href='file:///c%3A/Users/Marco/Documents/GitHub/Kepler-Exoplaneten-ML-Projekt/.venv/lib/site-packages/matplotlib/axes/_base.py?line=3711'>3712</a>\u001b[0m             \u001b[39m'\u001b[39m\u001b[39mAttempted to set non-positive right xlim on a \u001b[39m\u001b[39m'\u001b[39m\n\u001b[0;32m   <a href='file:///c%3A/Users/Marco/Documents/GitHub/Kepler-Exoplaneten-ML-Projekt/.venv/lib/site-packages/matplotlib/axes/_base.py?line=3712'>3713</a>\u001b[0m             \u001b[39m'\u001b[39m\u001b[39mlog-scaled axis.\u001b[39m\u001b[39m\\n\u001b[39;00m\u001b[39m'\u001b[39m\n\u001b[0;32m   <a href='file:///c%3A/Users/Marco/Documents/GitHub/Kepler-Exoplaneten-ML-Projekt/.venv/lib/site-packages/matplotlib/axes/_base.py?line=3713'>3714</a>\u001b[0m             \u001b[39m'\u001b[39m\u001b[39mInvalid limit will be ignored.\u001b[39m\u001b[39m'\u001b[39m)\n\u001b[0;32m   <a href='file:///c%3A/Users/Marco/Documents/GitHub/Kepler-Exoplaneten-ML-Projekt/.venv/lib/site-packages/matplotlib/axes/_base.py?line=3714'>3715</a>\u001b[0m         right \u001b[39m=\u001b[39m old_right\n\u001b[1;32m-> <a href='file:///c%3A/Users/Marco/Documents/GitHub/Kepler-Exoplaneten-ML-Projekt/.venv/lib/site-packages/matplotlib/axes/_base.py?line=3715'>3716</a>\u001b[0m \u001b[39mif\u001b[39;00m left \u001b[39m==\u001b[39;49m right:\n\u001b[0;32m   <a href='file:///c%3A/Users/Marco/Documents/GitHub/Kepler-Exoplaneten-ML-Projekt/.venv/lib/site-packages/matplotlib/axes/_base.py?line=3716'>3717</a>\u001b[0m     _api\u001b[39m.\u001b[39mwarn_external(\n\u001b[0;32m   <a href='file:///c%3A/Users/Marco/Documents/GitHub/Kepler-Exoplaneten-ML-Projekt/.venv/lib/site-packages/matplotlib/axes/_base.py?line=3717'>3718</a>\u001b[0m         \u001b[39mf\u001b[39m\u001b[39m\"\u001b[39m\u001b[39mAttempting to set identical left == right == \u001b[39m\u001b[39m{\u001b[39;00mleft\u001b[39m}\u001b[39;00m\u001b[39m results \u001b[39m\u001b[39m\"\u001b[39m\n\u001b[0;32m   <a href='file:///c%3A/Users/Marco/Documents/GitHub/Kepler-Exoplaneten-ML-Projekt/.venv/lib/site-packages/matplotlib/axes/_base.py?line=3718'>3719</a>\u001b[0m         \u001b[39mf\u001b[39m\u001b[39m\"\u001b[39m\u001b[39min singular transformations; automatically expanding.\u001b[39m\u001b[39m\"\u001b[39m)\n\u001b[0;32m   <a href='file:///c%3A/Users/Marco/Documents/GitHub/Kepler-Exoplaneten-ML-Projekt/.venv/lib/site-packages/matplotlib/axes/_base.py?line=3719'>3720</a>\u001b[0m reverse \u001b[39m=\u001b[39m left \u001b[39m>\u001b[39m right\n",
      "File \u001b[1;32mc:\\Users\\Marco\\Documents\\GitHub\\Kepler-Exoplaneten-ML-Projekt\\.venv\\lib\\site-packages\\pandas\\core\\generic.py:1535\u001b[0m, in \u001b[0;36mNDFrame.__nonzero__\u001b[1;34m(self)\u001b[0m\n\u001b[0;32m   <a href='file:///c%3A/Users/Marco/Documents/GitHub/Kepler-Exoplaneten-ML-Projekt/.venv/lib/site-packages/pandas/core/generic.py?line=1532'>1533</a>\u001b[0m \u001b[39m@final\u001b[39m\n\u001b[0;32m   <a href='file:///c%3A/Users/Marco/Documents/GitHub/Kepler-Exoplaneten-ML-Projekt/.venv/lib/site-packages/pandas/core/generic.py?line=1533'>1534</a>\u001b[0m \u001b[39mdef\u001b[39;00m \u001b[39m__nonzero__\u001b[39m(\u001b[39mself\u001b[39m):\n\u001b[1;32m-> <a href='file:///c%3A/Users/Marco/Documents/GitHub/Kepler-Exoplaneten-ML-Projekt/.venv/lib/site-packages/pandas/core/generic.py?line=1534'>1535</a>\u001b[0m     \u001b[39mraise\u001b[39;00m \u001b[39mValueError\u001b[39;00m(\n\u001b[0;32m   <a href='file:///c%3A/Users/Marco/Documents/GitHub/Kepler-Exoplaneten-ML-Projekt/.venv/lib/site-packages/pandas/core/generic.py?line=1535'>1536</a>\u001b[0m         \u001b[39mf\u001b[39m\u001b[39m\"\u001b[39m\u001b[39mThe truth value of a \u001b[39m\u001b[39m{\u001b[39;00m\u001b[39mtype\u001b[39m(\u001b[39mself\u001b[39m)\u001b[39m.\u001b[39m\u001b[39m__name__\u001b[39m\u001b[39m}\u001b[39;00m\u001b[39m is ambiguous. \u001b[39m\u001b[39m\"\u001b[39m\n\u001b[0;32m   <a href='file:///c%3A/Users/Marco/Documents/GitHub/Kepler-Exoplaneten-ML-Projekt/.venv/lib/site-packages/pandas/core/generic.py?line=1536'>1537</a>\u001b[0m         \u001b[39m\"\u001b[39m\u001b[39mUse a.empty, a.bool(), a.item(), a.any() or a.all().\u001b[39m\u001b[39m\"\u001b[39m\n\u001b[0;32m   <a href='file:///c%3A/Users/Marco/Documents/GitHub/Kepler-Exoplaneten-ML-Projekt/.venv/lib/site-packages/pandas/core/generic.py?line=1537'>1538</a>\u001b[0m     )\n",
      "\u001b[1;31mValueError\u001b[0m: The truth value of a Series is ambiguous. Use a.empty, a.bool(), a.item(), a.any() or a.all()."
     ]
    },
    {
     "data": {
      "image/png": "[encoded data removed]",
      "text/plain": [
       "<Figure size 576x432 with 1 Axes>"
      ]
     },
     "metadata": {
      "needs_background": "light"
     },
     "output_type": "display_data"
    }
   ],
   "source": [
    "knn_imputer = KNNImputer()\n",
    "knn_imputer.fit(x_train)\n",
    "x_train = knn_imputer.transform(x_train)\n",
    "x_test = knn_imputer.transform(x_test)\n",
    "\n",
    "plt.figure(figsize=(8, 6))\n",
    "label_imputed, label_original, label_knn_imputed = \"\", \"\", \"\"\n",
    "for i in range(5):\n",
    "    # Plot Labels nur einmal\n",
    "    if i == 4:\n",
    "        label_imputed = \"Imputed\"\n",
    "        label_knn_imputed = \"Knn Imputed\"\n",
    "        label_original = \"Original\"\n",
    "\n",
    "    # Errechne die fehlenden Werte\n",
    "    x1, x2 = imputer.transform(x)[rows[np.where(cols <= 1)][i], :1], imputer.transform(x)[\n",
    "        rows[np.where(cols <= 1)][i], 1:2]\n",
    "\n",
    "    # Plotte die Imputed Werte und fortlaufende Nummer\n",
    "    plt.scatter(x1, x2, c=\"#CC1B58\", label=label_imputed)\n",
    "    plt.text(x1-0.03, x2+0.1, str(i), c=\"#CC1B58\")\n",
    "\n",
    "    # Errechne die fehlenden Werte\n",
    "    knnx1, knnx2 = knn_imputer.transform(x)[rows[np.where(\n",
    "        cols <= 1)][i], :1], knn_imputer.transform(x)[rows[np.where(cols <= 1)][i], 1:2]\n",
    "\n",
    "    # Plotte die Imputed Werte und fortlaufende Nummer\n",
    "    plt.scatter(knnx1, knnx2, c=\"#7902E5\", label=label_knn_imputed)\n",
    "    plt.text(knnx1-0.03, knnx2+0.1, str(i), c=\"#7902E5\")\n",
    "\n",
    "    # Plotte die originalen Werte und fortlaufende Nummmder\n",
    "    plt.scatter(x_original.iloc[rows[np.where(cols <= 1)][i], :1], x_original.iloc[rows[np.where(\n",
    "        cols <= 1)][i], 1:2], c=\"#1ACC94\", label=label_original)\n",
    "    plt.text(x_original.iloc[rows[np.where(cols <= 1)][i], :1]-0.03,\n",
    "             x_original.iloc[rows[np.where(cols <= 1)][i], 1:2]+0.1, str(i), c=\"#1ACC94\")\n",
    "\n",
    "# Plot beschreiben\n",
    "plt.xlim(np.min(x_original.iloc[:, :1]), np.max(x_original.iloc[:, :1]))\n",
    "plt.ylim(np.min(x_original.iloc[:, 1:2]), np.max(x_original.iloc[:, 1:2]))\n",
    "plt.title(\"Imputierte und originale Werte\")\n",
    "plt.legend()\n",
    "plt.xlabel(\"$x_1$\")\n",
    "plt.ylabel(\"$x_2$\")\n",
    "plt.show()\n"
   ]
  }
 ],
 "metadata": {
  "interpreter": {
   "hash": "6bd8927e3b3b3ce982423ac6069c87e13fdc8801d6c7e255f10b3e7e00ff945a"
  },
  "kernelspec": {
   "display_name": "Python 3.10.2 ('.venv': venv)",
   "language": "python",
   "name": "python3"
  },
  "language_info": {
   "codemirror_mode": {
    "name": "ipython",
    "version": 3
   },
   "file_extension": ".py",
   "mimetype": "text/x-python",
   "name": "python",
   "nbconvert_exporter": "python",
   "pygments_lexer": "ipython3",
   "version": "3.10.2"
  },
  "orig_nbformat": 4
 },
 "nbformat": 4,
 "nbformat_minor": 2
}
